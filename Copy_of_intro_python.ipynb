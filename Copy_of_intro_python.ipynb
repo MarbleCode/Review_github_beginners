{
  "nbformat": 4,
  "nbformat_minor": 0,
  "metadata": {
    "colab": {
      "name": "Copy of intro_python.ipynb",
      "provenance": [],
      "authorship_tag": "ABX9TyPEXJ7vjxKYQyRYwQBCo8Mi",
      "include_colab_link": true
    },
    "kernelspec": {
      "name": "python3",
      "display_name": "Python 3"
    },
    "language_info": {
      "name": "python"
    }
  },
  "cells": [
    {
      "cell_type": "markdown",
      "metadata": {
        "id": "view-in-github",
        "colab_type": "text"
      },
      "source": [
        "<a href=\"https://colab.research.google.com/github/MarbleCode/Review_github_beginners/blob/main/Copy_of_intro_python.ipynb\" target=\"_parent\"><img src=\"https://colab.research.google.com/assets/colab-badge.svg\" alt=\"Open In Colab\"/></a>"
      ]
    },
    {
      "cell_type": "code",
      "execution_count": 1,
      "metadata": {
        "colab": {
          "base_uri": "https://localhost:8080/"
        },
        "id": "Z_j4MqRTrvDj",
        "outputId": "2f9e335f-39e5-45ff-cfc8-6ba94c95ca46"
      },
      "outputs": [
        {
          "output_type": "stream",
          "name": "stdout",
          "text": [
            "Hello world\n"
          ]
        }
      ],
      "source": [
        "print('Hello world')"
      ]
    },
    {
      "cell_type": "code",
      "source": [
        "y=5\n",
        "for i in range(10):\n",
        "  print('i :', i)\n",
        "  print('i+y',i+y)"
      ],
      "metadata": {
        "colab": {
          "base_uri": "https://localhost:8080/"
        },
        "id": "v-s5zXVKsgds",
        "outputId": "26abea3f-9afb-4249-9d9d-8b21153e8b4f"
      },
      "execution_count": 2,
      "outputs": [
        {
          "output_type": "stream",
          "name": "stdout",
          "text": [
            "i : 0\n",
            "i+y 5\n",
            "i : 1\n",
            "i+y 6\n",
            "i : 2\n",
            "i+y 7\n",
            "i : 3\n",
            "i+y 8\n",
            "i : 4\n",
            "i+y 9\n",
            "i : 5\n",
            "i+y 10\n",
            "i : 6\n",
            "i+y 11\n",
            "i : 7\n",
            "i+y 12\n",
            "i : 8\n",
            "i+y 13\n",
            "i : 9\n",
            "i+y 14\n"
          ]
        }
      ]
    },
    {
      "cell_type": "code",
      "source": [
        "x=10\n",
        "print(type(x))"
      ],
      "metadata": {
        "colab": {
          "base_uri": "https://localhost:8080/"
        },
        "id": "uuEm3r20tMlz",
        "outputId": "e16455c9-1e63-4346-e93a-5874b6843e7d"
      },
      "execution_count": null,
      "outputs": [
        {
          "output_type": "stream",
          "name": "stdout",
          "text": [
            "<class 'int'>\n"
          ]
        }
      ]
    },
    {
      "cell_type": "code",
      "source": [
        "y=5\n",
        "##start x=10\n",
        "##end x=25\n",
        "##step +1\n",
        "for n in range(10,26,1):\n",
        "  print('จำนวนรอบ:',n)\n",
        "  print('y:',y)\n",
        "  y+=1 ##y=y+1\n",
        "print('จำนวนรอบ:',n)\n",
        "print('คำตอบ : ',y) "
      ],
      "metadata": {
        "colab": {
          "base_uri": "https://localhost:8080/"
        },
        "id": "ufo0vFyrtrEn",
        "outputId": "8891d369-5389-4066-86bd-789d2647a4a4"
      },
      "execution_count": null,
      "outputs": [
        {
          "output_type": "stream",
          "name": "stdout",
          "text": [
            "จำนวนรอบ: 10\n",
            "y: 5\n",
            "จำนวนรอบ: 11\n",
            "y: 6\n",
            "จำนวนรอบ: 12\n",
            "y: 7\n",
            "จำนวนรอบ: 13\n",
            "y: 8\n",
            "จำนวนรอบ: 14\n",
            "y: 9\n",
            "จำนวนรอบ: 15\n",
            "y: 10\n",
            "จำนวนรอบ: 16\n",
            "y: 11\n",
            "จำนวนรอบ: 17\n",
            "y: 12\n",
            "จำนวนรอบ: 18\n",
            "y: 13\n",
            "จำนวนรอบ: 19\n",
            "y: 14\n",
            "จำนวนรอบ: 20\n",
            "y: 15\n",
            "จำนวนรอบ: 21\n",
            "y: 16\n",
            "จำนวนรอบ: 22\n",
            "y: 17\n",
            "จำนวนรอบ: 23\n",
            "y: 18\n",
            "จำนวนรอบ: 24\n",
            "y: 19\n",
            "จำนวนรอบ: 25\n",
            "y: 20\n",
            "จำนวนรอบ: 25\n",
            "คำตอบ :  21\n"
          ]
        }
      ]
    }
  ]
}